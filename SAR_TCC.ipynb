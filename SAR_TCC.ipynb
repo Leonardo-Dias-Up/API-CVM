{
  "nbformat": 4,
  "nbformat_minor": 0,
  "metadata": {
    "colab": {
      "provenance": [],
      "authorship_tag": "ABX9TyOWM7C3RgbDQH2gdA/l5Xu8",
      "include_colab_link": true
    },
    "kernelspec": {
      "name": "python3",
      "display_name": "Python 3"
    },
    "language_info": {
      "name": "python"
    }
  },
  "cells": [
    {
      "cell_type": "markdown",
      "metadata": {
        "id": "view-in-github",
        "colab_type": "text"
      },
      "source": [
        "<a href=\"https://colab.research.google.com/github/Leonardo-Dias-Up/API-CVM/blob/main/SAR_TCC.ipynb\" target=\"_parent\"><img src=\"https://colab.research.google.com/assets/colab-badge.svg\" alt=\"Open In Colab\"/></a>"
      ]
    },
    {
      "cell_type": "markdown",
      "source": [
        "Nesse script, carregamos o arquivo de dados MUNIC_2020.shp, selecionamos as variáveis de interesse, renomeamos as variáveis, definimos a variável dependente e as independentes, criamos uma matriz de pesos espaciais utilizando a rainha como esquema de contiguidade, normalizamos a matriz de pesos espaciais, ajustamos um modelo de regressão espacial de autorregressão espacial com lag generalizado (GM-Lag) e apresentamos os resultados. Além disso, calculamos a estatística de Moran's I para o erro e para o resíduo e realizamos o teste de heterocedasticidade.\n"
      ],
      "metadata": {
        "id": "9UiLDUxVcEzl"
      }
    },
    {
      "cell_type": "code",
      "source": [
        "!pip install geopandas\n",
        "!pip install pysal"
      ],
      "metadata": {
        "id": "9_gGCX-raWr9"
      },
      "execution_count": null,
      "outputs": []
    },
    {
      "cell_type": "code",
      "execution_count": 4,
      "metadata": {
        "id": "DTPb7d_yaT25"
      },
      "outputs": [],
      "source": [
        "import pandas as pd\n",
        "import geopandas as gpd\n",
        "import numpy as np\n",
        "from libpysal import weights\n",
        "from libpysal import examples\n",
        "import matplotlib.pyplot as plt\n",
        "import seaborn as sns\n",
        "import splot\n",
        "from pysal.explore import esda"
      ]
    },
    {
      "cell_type": "code",
      "source": [
        "# Carregar o arquivo de dados\n",
        "data = gpd.read_file(\"MUNIC_2020.shp\")\n",
        "data.head()"
      ],
      "metadata": {
        "id": "_9195kiQbnDK"
      },
      "execution_count": null,
      "outputs": []
    },
    {
      "cell_type": "code",
      "source": [
        "# Ajustar os nomes das variáveis\n",
        "data.columns = [\"CD_GEOCMU\", \"geometry\", \"pib\", \"idhm\", \"pop\"]"
      ],
      "metadata": {
        "id": "CmKJ2hBmdLi1"
      },
      "execution_count": null,
      "outputs": []
    },
    {
      "cell_type": "code",
      "source": [
        "# Selecionar as variáveis\n",
        "data = data[[\"CD_GEOCMU\", \"geometry\", \"PIB\", \"IDHM\", \"Pop_residente\"]]\n",
        "\n",
        "# Definir a variável dependente e as independentes\n",
        "y_name = \"pib\"\n",
        "x_names = [\"idhm\", \"pop\"]"
      ],
      "metadata": {
        "id": "-hQJAsvZc90-"
      },
      "execution_count": null,
      "outputs": []
    },
    {
      "cell_type": "code",
      "source": [
        "# Criar matriz de pesos espaciais\n",
        "w = weights.Queen.from_dataframe(data)\n",
        "\n",
        "# Normalizar a matriz de pesos espaciais\n",
        "w.transform = 'r'\n",
        "\n",
        "# Calcular a estatística de Moran's I para o erro usando pysal\n",
        "model = spreg.GM_Lag(data[y_name].values.reshape(-1, 1), data[x_names].values, w, name_y=y_name, name_x=x_names)\n",
        "moran_resid = esda.moran.Moran(model.u, w)\n",
        "print(\"Moran's I do erro:\", moran_resid.I)\n",
        "\n",
        "# Calcular a estatística de Moran's I para o resíduo usando pysal\n",
        "moran_residuals = esda.moran.Moran(model.u_residuals, w)\n",
        "print(\"Moran's I do resíduo:\", moran_residuals.I)\n",
        "\n",
        "# Calcular o teste de heterocedasticidade de Breusch-Pagan usando pysal\n",
        "resid_std_err = np.sqrt(model.vm.diagonal())\n",
        "lm_lag_std_err = np.sqrt(model.sig2ML)\n",
        "test = spreg.diagnostics.het_breuschpagan(model.u_residuals, model.X, w, lm_lag_std_err, resid_std_err)\n",
        "print(\"p-value do teste de Breusch-Pagan para heterocedasticidade:\", test.pvalue)\n",
        "\n",
        "# Ajustar o modelo de regressão espacial com GM-Lag\n",
        "model_robust = spreg.GM_Lag(data[y_name].values.reshape(-1, 1), data[x_names].values, w, name_y=y_name, name_x=x_names, robust='hac', gwk=w)\n",
        "\n",
        "# Imprimir os resultados do modelo ajustado\n",
        "print(model_robust.summary)"
      ],
      "metadata": {
        "id": "Wy7nw5tHdBu-"
      },
      "execution_count": null,
      "outputs": []
    }
  ]
}